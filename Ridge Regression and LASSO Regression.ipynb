{
 "cells": [
  {
   "cell_type": "code",
   "execution_count": 1,
   "metadata": {},
   "outputs": [],
   "source": [
    "import pandas as pd\n",
    "import matplotlib.pyplot as plt\n",
    "import numpy as np\n",
    "from numpy import linalg as LA"
   ]
  },
  {
   "cell_type": "markdown",
   "metadata": {},
   "source": [
    "# 1. Ridge Regression "
   ]
  },
  {
   "cell_type": "code",
   "execution_count": 1012,
   "metadata": {},
   "outputs": [],
   "source": [
    "def program_1(Y,X,D,lamb):\n",
    "    x_bar = X.mean()\n",
    "    y_bar = Y.mean()\n",
    "    xc = np.array([(X.iloc[0] - x_bar).to_numpy()])\n",
    "    yc = np.array([(Y.iloc[0] - y_bar).to_numpy()])\n",
    "    for i in range(1,len(X)):\n",
    "        val_x = (X.iloc[i] - x_bar).to_numpy()\n",
    "        val_y = (Y.iloc[i] - y_bar).to_numpy()\n",
    "        xc = np.vstack((xc,val_x))\n",
    "        yc = np.vstack((yc,val_y))\n",
    "    b_hat = np.dot(np.linalg.inv(np.dot(xc.T,xc)+lamb*D),np.dot(xc.T,yc))\n",
    "    beta_zero = y_bar - np.dot(b_hat.T,x_bar)\n",
    "    return [b_hat,beta_zero]"
   ]
  },
  {
   "cell_type": "code",
   "execution_count": 1013,
   "metadata": {},
   "outputs": [
    {
     "name": "stdout",
     "output_type": "stream",
     "text": [
      "Shape of the train dataset: (50, 8)\n"
     ]
    },
    {
     "data": {
      "text/html": [
       "<div>\n",
       "<style scoped>\n",
       "    .dataframe tbody tr th:only-of-type {\n",
       "        vertical-align: middle;\n",
       "    }\n",
       "\n",
       "    .dataframe tbody tr th {\n",
       "        vertical-align: top;\n",
       "    }\n",
       "\n",
       "    .dataframe thead th {\n",
       "        text-align: right;\n",
       "    }\n",
       "</style>\n",
       "<table border=\"1\" class=\"dataframe\">\n",
       "  <thead>\n",
       "    <tr style=\"text-align: right;\">\n",
       "      <th></th>\n",
       "      <th>x1</th>\n",
       "      <th>x2</th>\n",
       "      <th>x3</th>\n",
       "      <th>x4</th>\n",
       "      <th>y1</th>\n",
       "      <th>y2</th>\n",
       "      <th>y3</th>\n",
       "      <th>y4</th>\n",
       "    </tr>\n",
       "  </thead>\n",
       "  <tbody>\n",
       "    <tr>\n",
       "      <th>0</th>\n",
       "      <td>0.606896</td>\n",
       "      <td>-0.720488</td>\n",
       "      <td>0.506829</td>\n",
       "      <td>-1.412712</td>\n",
       "      <td>0.233275</td>\n",
       "      <td>0.211846</td>\n",
       "      <td>-0.209617</td>\n",
       "      <td>1.092333</td>\n",
       "    </tr>\n",
       "    <tr>\n",
       "      <th>1</th>\n",
       "      <td>1.095596</td>\n",
       "      <td>-0.651107</td>\n",
       "      <td>1.412341</td>\n",
       "      <td>-0.806660</td>\n",
       "      <td>-0.066973</td>\n",
       "      <td>1.830081</td>\n",
       "      <td>0.113693</td>\n",
       "      <td>2.788914</td>\n",
       "    </tr>\n",
       "    <tr>\n",
       "      <th>2</th>\n",
       "      <td>-0.988516</td>\n",
       "      <td>1.250718</td>\n",
       "      <td>0.165874</td>\n",
       "      <td>-0.469454</td>\n",
       "      <td>-0.388012</td>\n",
       "      <td>-1.959737</td>\n",
       "      <td>-0.709900</td>\n",
       "      <td>0.574179</td>\n",
       "    </tr>\n",
       "    <tr>\n",
       "      <th>3</th>\n",
       "      <td>-0.542340</td>\n",
       "      <td>-0.908381</td>\n",
       "      <td>-1.291244</td>\n",
       "      <td>-1.577339</td>\n",
       "      <td>-1.167615</td>\n",
       "      <td>-0.919405</td>\n",
       "      <td>-2.557312</td>\n",
       "      <td>-2.431072</td>\n",
       "    </tr>\n",
       "    <tr>\n",
       "      <th>4</th>\n",
       "      <td>0.960383</td>\n",
       "      <td>-0.939526</td>\n",
       "      <td>1.139075</td>\n",
       "      <td>-0.766487</td>\n",
       "      <td>-0.607374</td>\n",
       "      <td>2.235447</td>\n",
       "      <td>-0.258331</td>\n",
       "      <td>2.665624</td>\n",
       "    </tr>\n",
       "  </tbody>\n",
       "</table>\n",
       "</div>"
      ],
      "text/plain": [
       "         x1        x2        x3        x4        y1        y2        y3  \\\n",
       "0  0.606896 -0.720488  0.506829 -1.412712  0.233275  0.211846 -0.209617   \n",
       "1  1.095596 -0.651107  1.412341 -0.806660 -0.066973  1.830081  0.113693   \n",
       "2 -0.988516  1.250718  0.165874 -0.469454 -0.388012 -1.959737 -0.709900   \n",
       "3 -0.542340 -0.908381 -1.291244 -1.577339 -1.167615 -0.919405 -2.557312   \n",
       "4  0.960383 -0.939526  1.139075 -0.766487 -0.607374  2.235447 -0.258331   \n",
       "\n",
       "         y4  \n",
       "0  1.092333  \n",
       "1  2.788914  \n",
       "2  0.574179  \n",
       "3 -2.431072  \n",
       "4  2.665624  "
      ]
     },
     "metadata": {},
     "output_type": "display_data"
    }
   ],
   "source": [
    "train1 = pd.read_csv('project3_F2020_Set1Train.csv')\n",
    "print('Shape of the train dataset:',train1.shape)\n",
    "display(train1.head())\n",
    "X1_train = train1.loc[:,'x1':'x4']\n",
    "Y1_train = train1.loc[:,'y1':'y4']"
   ]
  },
  {
   "cell_type": "code",
   "execution_count": 1014,
   "metadata": {},
   "outputs": [
    {
     "name": "stdout",
     "output_type": "stream",
     "text": [
      "Shape of the test dataset: (1000, 8)\n"
     ]
    },
    {
     "data": {
      "text/html": [
       "<div>\n",
       "<style scoped>\n",
       "    .dataframe tbody tr th:only-of-type {\n",
       "        vertical-align: middle;\n",
       "    }\n",
       "\n",
       "    .dataframe tbody tr th {\n",
       "        vertical-align: top;\n",
       "    }\n",
       "\n",
       "    .dataframe thead th {\n",
       "        text-align: right;\n",
       "    }\n",
       "</style>\n",
       "<table border=\"1\" class=\"dataframe\">\n",
       "  <thead>\n",
       "    <tr style=\"text-align: right;\">\n",
       "      <th></th>\n",
       "      <th>x1</th>\n",
       "      <th>x2</th>\n",
       "      <th>x3</th>\n",
       "      <th>x4</th>\n",
       "      <th>y1</th>\n",
       "      <th>y2</th>\n",
       "      <th>y3</th>\n",
       "      <th>y4</th>\n",
       "    </tr>\n",
       "  </thead>\n",
       "  <tbody>\n",
       "    <tr>\n",
       "      <th>0</th>\n",
       "      <td>0.602321</td>\n",
       "      <td>0.807560</td>\n",
       "      <td>-0.239030</td>\n",
       "      <td>-1.328612</td>\n",
       "      <td>0.663577</td>\n",
       "      <td>1.248533</td>\n",
       "      <td>-0.802823</td>\n",
       "      <td>-1.360854</td>\n",
       "    </tr>\n",
       "    <tr>\n",
       "      <th>1</th>\n",
       "      <td>0.948874</td>\n",
       "      <td>1.056387</td>\n",
       "      <td>-0.250735</td>\n",
       "      <td>0.536077</td>\n",
       "      <td>1.257174</td>\n",
       "      <td>2.562511</td>\n",
       "      <td>0.502637</td>\n",
       "      <td>-0.186225</td>\n",
       "    </tr>\n",
       "    <tr>\n",
       "      <th>2</th>\n",
       "      <td>-1.593617</td>\n",
       "      <td>-0.340660</td>\n",
       "      <td>-0.409221</td>\n",
       "      <td>-1.114634</td>\n",
       "      <td>-1.461028</td>\n",
       "      <td>-3.197548</td>\n",
       "      <td>-1.604647</td>\n",
       "      <td>-1.255989</td>\n",
       "    </tr>\n",
       "    <tr>\n",
       "      <th>3</th>\n",
       "      <td>-0.111770</td>\n",
       "      <td>-0.343052</td>\n",
       "      <td>-1.012755</td>\n",
       "      <td>1.079099</td>\n",
       "      <td>0.165462</td>\n",
       "      <td>-0.402549</td>\n",
       "      <td>0.445664</td>\n",
       "      <td>-1.951113</td>\n",
       "    </tr>\n",
       "    <tr>\n",
       "      <th>4</th>\n",
       "      <td>1.613283</td>\n",
       "      <td>0.867685</td>\n",
       "      <td>0.139412</td>\n",
       "      <td>-0.501156</td>\n",
       "      <td>2.533747</td>\n",
       "      <td>2.151000</td>\n",
       "      <td>-0.615875</td>\n",
       "      <td>-0.050466</td>\n",
       "    </tr>\n",
       "  </tbody>\n",
       "</table>\n",
       "</div>"
      ],
      "text/plain": [
       "         x1        x2        x3        x4        y1        y2        y3  \\\n",
       "0  0.602321  0.807560 -0.239030 -1.328612  0.663577  1.248533 -0.802823   \n",
       "1  0.948874  1.056387 -0.250735  0.536077  1.257174  2.562511  0.502637   \n",
       "2 -1.593617 -0.340660 -0.409221 -1.114634 -1.461028 -3.197548 -1.604647   \n",
       "3 -0.111770 -0.343052 -1.012755  1.079099  0.165462 -0.402549  0.445664   \n",
       "4  1.613283  0.867685  0.139412 -0.501156  2.533747  2.151000 -0.615875   \n",
       "\n",
       "         y4  \n",
       "0 -1.360854  \n",
       "1 -0.186225  \n",
       "2 -1.255989  \n",
       "3 -1.951113  \n",
       "4 -0.050466  "
      ]
     },
     "metadata": {},
     "output_type": "display_data"
    }
   ],
   "source": [
    "test1 = pd.read_csv('project3_F2020_Set1Test.csv')\n",
    "print('Shape of the test dataset:',test1.shape)\n",
    "display(test1.head())\n",
    "X1_test = test1.loc[:,'x1':'x4']\n",
    "Y1_test = test1.loc[:,'y1':'y4']"
   ]
  },
  {
   "cell_type": "code",
   "execution_count": 1015,
   "metadata": {},
   "outputs": [],
   "source": [
    "d = X1_train.shape[1]\n",
    "D = np.identity(d)\n",
    "\n",
    "lambdas = np.linspace(0.01,2,200)\n",
    "errors = []\n",
    "for lamb in lambdas:\n",
    "    b_hat,beta_zero = program_1(Y1_train,X1_train,D,lamb)\n",
    "    err = 0\n",
    "    for i in range(X1_test.shape[0]):\n",
    "        pred_y = beta_zero + np.dot(b_hat.T,X1_test.iloc[i])\n",
    "        err+= np.linalg.norm(pred_y-Y1_test.iloc[i])\n",
    "    errors.append(err/X1_test.shape[0])"
   ]
  },
  {
   "cell_type": "code",
   "execution_count": 1016,
   "metadata": {
    "scrolled": true
   },
   "outputs": [
    {
     "data": {
      "text/plain": [
       "Text(0.5, 1.0, 'Graph of Lambda v.s Error')"
      ]
     },
     "execution_count": 1016,
     "metadata": {},
     "output_type": "execute_result"
    },
    {
     "data": {
      "image/png": "[encoded data removed]",
      "text/plain": [
       "<Figure size 432x288 with 1 Axes>"
      ]
     },
     "metadata": {
      "needs_background": "light"
     },
     "output_type": "display_data"
    }
   ],
   "source": [
    "plt.plot(lambdas,errors)\n",
    "plt.xlabel(\"Lambda\")\n",
    "plt.ylabel(\"Error\")\n",
    "plt.title('Graph of Lambda v.s Error')"
   ]
  },
  {
   "cell_type": "code",
   "execution_count": 1019,
   "metadata": {},
   "outputs": [
    {
     "name": "stdout",
     "output_type": "stream",
     "text": [
      "Estimated b\n",
      "[[ 1.03987953  1.95454225 -0.05625942 -0.01502408]\n",
      " [ 0.87322223 -0.0591789   0.04609397 -0.07385095]\n",
      " [-0.09005873 -0.00785662  1.02079797  2.05543831]\n",
      " [ 0.08937484  0.0615837   0.92981037  0.07385764]]\n",
      "Estimated beta_0\n",
      "[-0.007844069389003894, 0.014105280430437128, -0.02314242500498561, -0.04277628776538226]\n"
     ]
    }
   ],
   "source": [
    "d = X1_train.shape[1]\n",
    "D = np.identity(d)\n",
    "\n",
    "b_hat_1,beta_zero_1 = program_1(Y1_train,X1_train,D,lamb=1)\n",
    "print('Estimated b')\n",
    "print(b_hat_1)\n",
    "print('Estimated beta_0')\n",
    "print(beta_zero_1.tolist())"
   ]
  },
  {
   "cell_type": "markdown",
   "metadata": {},
   "source": [
    "# 2.  Ridge Regression and Sylvester Equation"
   ]
  },
  {
   "cell_type": "code",
   "execution_count": 8,
   "metadata": {},
   "outputs": [
    {
     "data": {
      "text/html": [
       "<div>\n",
       "<style scoped>\n",
       "    .dataframe tbody tr th:only-of-type {\n",
       "        vertical-align: middle;\n",
       "    }\n",
       "\n",
       "    .dataframe tbody tr th {\n",
       "        vertical-align: top;\n",
       "    }\n",
       "\n",
       "    .dataframe thead th {\n",
       "        text-align: right;\n",
       "    }\n",
       "</style>\n",
       "<table border=\"1\" class=\"dataframe\">\n",
       "  <thead>\n",
       "    <tr style=\"text-align: right;\">\n",
       "      <th></th>\n",
       "      <th>0</th>\n",
       "      <th>1</th>\n",
       "      <th>2</th>\n",
       "      <th>3</th>\n",
       "      <th>4</th>\n",
       "      <th>5</th>\n",
       "      <th>6</th>\n",
       "      <th>7</th>\n",
       "      <th>8</th>\n",
       "      <th>9</th>\n",
       "      <th>...</th>\n",
       "      <th>193</th>\n",
       "      <th>194</th>\n",
       "      <th>195</th>\n",
       "      <th>196</th>\n",
       "      <th>197</th>\n",
       "      <th>198</th>\n",
       "      <th>199</th>\n",
       "      <th>200</th>\n",
       "      <th>201</th>\n",
       "      <th>202</th>\n",
       "    </tr>\n",
       "  </thead>\n",
       "  <tbody>\n",
       "    <tr>\n",
       "      <th>0</th>\n",
       "      <td>0.933942</td>\n",
       "      <td>0.511451</td>\n",
       "      <td>-0.350902</td>\n",
       "      <td>-1.465743</td>\n",
       "      <td>-1.829639</td>\n",
       "      <td>-1.684360</td>\n",
       "      <td>-1.683899</td>\n",
       "      <td>-1.313641</td>\n",
       "      <td>-1.485658</td>\n",
       "      <td>-1.569560</td>\n",
       "      <td>...</td>\n",
       "      <td>-0.182251</td>\n",
       "      <td>-0.362068</td>\n",
       "      <td>-0.158990</td>\n",
       "      <td>-0.448929</td>\n",
       "      <td>-0.732968</td>\n",
       "      <td>-0.347078</td>\n",
       "      <td>-0.229350</td>\n",
       "      <td>-0.323028</td>\n",
       "      <td>-0.320146</td>\n",
       "      <td>-0.546922</td>\n",
       "    </tr>\n",
       "    <tr>\n",
       "      <th>1</th>\n",
       "      <td>-0.142439</td>\n",
       "      <td>0.370873</td>\n",
       "      <td>-0.578081</td>\n",
       "      <td>-0.876288</td>\n",
       "      <td>-0.658061</td>\n",
       "      <td>-0.824786</td>\n",
       "      <td>-0.913443</td>\n",
       "      <td>-1.106479</td>\n",
       "      <td>-0.975723</td>\n",
       "      <td>-0.956138</td>\n",
       "      <td>...</td>\n",
       "      <td>0.851502</td>\n",
       "      <td>0.830914</td>\n",
       "      <td>0.512775</td>\n",
       "      <td>0.752462</td>\n",
       "      <td>0.755562</td>\n",
       "      <td>0.567790</td>\n",
       "      <td>0.575908</td>\n",
       "      <td>0.544469</td>\n",
       "      <td>0.580176</td>\n",
       "      <td>0.410688</td>\n",
       "    </tr>\n",
       "    <tr>\n",
       "      <th>2</th>\n",
       "      <td>-0.276756</td>\n",
       "      <td>-0.683288</td>\n",
       "      <td>1.470273</td>\n",
       "      <td>2.442921</td>\n",
       "      <td>2.530216</td>\n",
       "      <td>2.676155</td>\n",
       "      <td>2.543586</td>\n",
       "      <td>2.132613</td>\n",
       "      <td>2.780670</td>\n",
       "      <td>2.614583</td>\n",
       "      <td>...</td>\n",
       "      <td>-0.119306</td>\n",
       "      <td>-0.012177</td>\n",
       "      <td>-0.628837</td>\n",
       "      <td>-0.287789</td>\n",
       "      <td>-0.041139</td>\n",
       "      <td>-0.030031</td>\n",
       "      <td>0.171787</td>\n",
       "      <td>0.233468</td>\n",
       "      <td>0.468795</td>\n",
       "      <td>0.313663</td>\n",
       "    </tr>\n",
       "    <tr>\n",
       "      <th>3</th>\n",
       "      <td>-0.513765</td>\n",
       "      <td>1.714472</td>\n",
       "      <td>-0.940907</td>\n",
       "      <td>-0.917747</td>\n",
       "      <td>-0.876113</td>\n",
       "      <td>-0.622837</td>\n",
       "      <td>-0.558706</td>\n",
       "      <td>-0.413276</td>\n",
       "      <td>-0.729130</td>\n",
       "      <td>-0.509830</td>\n",
       "      <td>...</td>\n",
       "      <td>2.131398</td>\n",
       "      <td>2.355987</td>\n",
       "      <td>1.640676</td>\n",
       "      <td>2.217475</td>\n",
       "      <td>1.653860</td>\n",
       "      <td>2.213024</td>\n",
       "      <td>1.693335</td>\n",
       "      <td>1.605347</td>\n",
       "      <td>1.255414</td>\n",
       "      <td>1.571288</td>\n",
       "    </tr>\n",
       "    <tr>\n",
       "      <th>4</th>\n",
       "      <td>-0.917167</td>\n",
       "      <td>0.741472</td>\n",
       "      <td>-0.867991</td>\n",
       "      <td>-0.870348</td>\n",
       "      <td>-0.636118</td>\n",
       "      <td>-0.622946</td>\n",
       "      <td>-0.450606</td>\n",
       "      <td>-0.685055</td>\n",
       "      <td>-0.316814</td>\n",
       "      <td>-0.653286</td>\n",
       "      <td>...</td>\n",
       "      <td>2.062069</td>\n",
       "      <td>1.514200</td>\n",
       "      <td>1.828965</td>\n",
       "      <td>1.807724</td>\n",
       "      <td>1.814363</td>\n",
       "      <td>1.507955</td>\n",
       "      <td>1.509973</td>\n",
       "      <td>1.516139</td>\n",
       "      <td>1.828839</td>\n",
       "      <td>1.560979</td>\n",
       "    </tr>\n",
       "    <tr>\n",
       "      <th>...</th>\n",
       "      <td>...</td>\n",
       "      <td>...</td>\n",
       "      <td>...</td>\n",
       "      <td>...</td>\n",
       "      <td>...</td>\n",
       "      <td>...</td>\n",
       "      <td>...</td>\n",
       "      <td>...</td>\n",
       "      <td>...</td>\n",
       "      <td>...</td>\n",
       "      <td>...</td>\n",
       "      <td>...</td>\n",
       "      <td>...</td>\n",
       "      <td>...</td>\n",
       "      <td>...</td>\n",
       "      <td>...</td>\n",
       "      <td>...</td>\n",
       "      <td>...</td>\n",
       "      <td>...</td>\n",
       "      <td>...</td>\n",
       "      <td>...</td>\n",
       "    </tr>\n",
       "    <tr>\n",
       "      <th>145</th>\n",
       "      <td>0.785593</td>\n",
       "      <td>-1.805104</td>\n",
       "      <td>0.774292</td>\n",
       "      <td>-0.315503</td>\n",
       "      <td>-0.325708</td>\n",
       "      <td>-0.200460</td>\n",
       "      <td>-0.173312</td>\n",
       "      <td>-0.796942</td>\n",
       "      <td>-0.599817</td>\n",
       "      <td>-0.718774</td>\n",
       "      <td>...</td>\n",
       "      <td>-2.203023</td>\n",
       "      <td>-2.058371</td>\n",
       "      <td>-1.826903</td>\n",
       "      <td>-1.897526</td>\n",
       "      <td>-1.777207</td>\n",
       "      <td>-1.518348</td>\n",
       "      <td>-1.369030</td>\n",
       "      <td>-1.681839</td>\n",
       "      <td>-1.378092</td>\n",
       "      <td>-1.407973</td>\n",
       "    </tr>\n",
       "    <tr>\n",
       "      <th>146</th>\n",
       "      <td>-0.135095</td>\n",
       "      <td>-1.197294</td>\n",
       "      <td>-1.756850</td>\n",
       "      <td>-3.827336</td>\n",
       "      <td>-4.066428</td>\n",
       "      <td>-4.442217</td>\n",
       "      <td>-3.972884</td>\n",
       "      <td>-4.609098</td>\n",
       "      <td>-4.419757</td>\n",
       "      <td>-4.801655</td>\n",
       "      <td>...</td>\n",
       "      <td>-0.745895</td>\n",
       "      <td>-0.555108</td>\n",
       "      <td>-0.680679</td>\n",
       "      <td>-0.475686</td>\n",
       "      <td>-0.634915</td>\n",
       "      <td>-0.513297</td>\n",
       "      <td>-0.378701</td>\n",
       "      <td>-0.513870</td>\n",
       "      <td>-0.163179</td>\n",
       "      <td>-0.068935</td>\n",
       "    </tr>\n",
       "    <tr>\n",
       "      <th>147</th>\n",
       "      <td>0.965316</td>\n",
       "      <td>-0.757352</td>\n",
       "      <td>0.153239</td>\n",
       "      <td>-1.236192</td>\n",
       "      <td>-1.139686</td>\n",
       "      <td>-1.226329</td>\n",
       "      <td>-1.348472</td>\n",
       "      <td>-1.241033</td>\n",
       "      <td>-1.342213</td>\n",
       "      <td>-1.410739</td>\n",
       "      <td>...</td>\n",
       "      <td>-1.376487</td>\n",
       "      <td>-1.200383</td>\n",
       "      <td>-1.258800</td>\n",
       "      <td>-0.871586</td>\n",
       "      <td>-0.801673</td>\n",
       "      <td>-1.156257</td>\n",
       "      <td>-1.371049</td>\n",
       "      <td>-1.078425</td>\n",
       "      <td>-1.281219</td>\n",
       "      <td>-1.120610</td>\n",
       "    </tr>\n",
       "    <tr>\n",
       "      <th>148</th>\n",
       "      <td>-1.323381</td>\n",
       "      <td>-0.400705</td>\n",
       "      <td>2.322320</td>\n",
       "      <td>5.378794</td>\n",
       "      <td>5.552253</td>\n",
       "      <td>5.279432</td>\n",
       "      <td>4.996482</td>\n",
       "      <td>5.555625</td>\n",
       "      <td>5.875846</td>\n",
       "      <td>5.292194</td>\n",
       "      <td>...</td>\n",
       "      <td>1.318810</td>\n",
       "      <td>1.063861</td>\n",
       "      <td>1.374943</td>\n",
       "      <td>0.977877</td>\n",
       "      <td>1.136345</td>\n",
       "      <td>1.435192</td>\n",
       "      <td>1.697690</td>\n",
       "      <td>1.364454</td>\n",
       "      <td>1.787072</td>\n",
       "      <td>1.458983</td>\n",
       "    </tr>\n",
       "    <tr>\n",
       "      <th>149</th>\n",
       "      <td>-0.172670</td>\n",
       "      <td>1.054498</td>\n",
       "      <td>-0.333279</td>\n",
       "      <td>-0.298376</td>\n",
       "      <td>-0.160091</td>\n",
       "      <td>-0.192313</td>\n",
       "      <td>-0.356128</td>\n",
       "      <td>-0.066580</td>\n",
       "      <td>-0.050846</td>\n",
       "      <td>-0.106384</td>\n",
       "      <td>...</td>\n",
       "      <td>1.417266</td>\n",
       "      <td>1.301749</td>\n",
       "      <td>1.411491</td>\n",
       "      <td>1.449842</td>\n",
       "      <td>1.390618</td>\n",
       "      <td>1.119155</td>\n",
       "      <td>0.987411</td>\n",
       "      <td>1.176990</td>\n",
       "      <td>1.149916</td>\n",
       "      <td>0.902856</td>\n",
       "    </tr>\n",
       "  </tbody>\n",
       "</table>\n",
       "<p>150 rows × 203 columns</p>\n",
       "</div>"
      ],
      "text/plain": [
       "            0         1         2         3         4         5         6  \\\n",
       "0    0.933942  0.511451 -0.350902 -1.465743 -1.829639 -1.684360 -1.683899   \n",
       "1   -0.142439  0.370873 -0.578081 -0.876288 -0.658061 -0.824786 -0.913443   \n",
       "2   -0.276756 -0.683288  1.470273  2.442921  2.530216  2.676155  2.543586   \n",
       "3   -0.513765  1.714472 -0.940907 -0.917747 -0.876113 -0.622837 -0.558706   \n",
       "4   -0.917167  0.741472 -0.867991 -0.870348 -0.636118 -0.622946 -0.450606   \n",
       "..        ...       ...       ...       ...       ...       ...       ...   \n",
       "145  0.785593 -1.805104  0.774292 -0.315503 -0.325708 -0.200460 -0.173312   \n",
       "146 -0.135095 -1.197294 -1.756850 -3.827336 -4.066428 -4.442217 -3.972884   \n",
       "147  0.965316 -0.757352  0.153239 -1.236192 -1.139686 -1.226329 -1.348472   \n",
       "148 -1.323381 -0.400705  2.322320  5.378794  5.552253  5.279432  4.996482   \n",
       "149 -0.172670  1.054498 -0.333279 -0.298376 -0.160091 -0.192313 -0.356128   \n",
       "\n",
       "            7         8         9  ...       193       194       195  \\\n",
       "0   -1.313641 -1.485658 -1.569560  ... -0.182251 -0.362068 -0.158990   \n",
       "1   -1.106479 -0.975723 -0.956138  ...  0.851502  0.830914  0.512775   \n",
       "2    2.132613  2.780670  2.614583  ... -0.119306 -0.012177 -0.628837   \n",
       "3   -0.413276 -0.729130 -0.509830  ...  2.131398  2.355987  1.640676   \n",
       "4   -0.685055 -0.316814 -0.653286  ...  2.062069  1.514200  1.828965   \n",
       "..        ...       ...       ...  ...       ...       ...       ...   \n",
       "145 -0.796942 -0.599817 -0.718774  ... -2.203023 -2.058371 -1.826903   \n",
       "146 -4.609098 -4.419757 -4.801655  ... -0.745895 -0.555108 -0.680679   \n",
       "147 -1.241033 -1.342213 -1.410739  ... -1.376487 -1.200383 -1.258800   \n",
       "148  5.555625  5.875846  5.292194  ...  1.318810  1.063861  1.374943   \n",
       "149 -0.066580 -0.050846 -0.106384  ...  1.417266  1.301749  1.411491   \n",
       "\n",
       "          196       197       198       199       200       201       202  \n",
       "0   -0.448929 -0.732968 -0.347078 -0.229350 -0.323028 -0.320146 -0.546922  \n",
       "1    0.752462  0.755562  0.567790  0.575908  0.544469  0.580176  0.410688  \n",
       "2   -0.287789 -0.041139 -0.030031  0.171787  0.233468  0.468795  0.313663  \n",
       "3    2.217475  1.653860  2.213024  1.693335  1.605347  1.255414  1.571288  \n",
       "4    1.807724  1.814363  1.507955  1.509973  1.516139  1.828839  1.560979  \n",
       "..        ...       ...       ...       ...       ...       ...       ...  \n",
       "145 -1.897526 -1.777207 -1.518348 -1.369030 -1.681839 -1.378092 -1.407973  \n",
       "146 -0.475686 -0.634915 -0.513297 -0.378701 -0.513870 -0.163179 -0.068935  \n",
       "147 -0.871586 -0.801673 -1.156257 -1.371049 -1.078425 -1.281219 -1.120610  \n",
       "148  0.977877  1.136345  1.435192  1.697690  1.364454  1.787072  1.458983  \n",
       "149  1.449842  1.390618  1.119155  0.987411  1.176990  1.149916  0.902856  \n",
       "\n",
       "[150 rows x 203 columns]"
      ]
     },
     "execution_count": 8,
     "metadata": {},
     "output_type": "execute_result"
    }
   ],
   "source": [
    "set2 = pd.read_csv('project3_F2020_Set2.csv')\n",
    "set2"
   ]
  },
  {
   "cell_type": "code",
   "execution_count": 9,
   "metadata": {},
   "outputs": [
    {
     "data": {
      "text/html": [
       "<div>\n",
       "<style scoped>\n",
       "    .dataframe tbody tr th:only-of-type {\n",
       "        vertical-align: middle;\n",
       "    }\n",
       "\n",
       "    .dataframe tbody tr th {\n",
       "        vertical-align: top;\n",
       "    }\n",
       "\n",
       "    .dataframe thead th {\n",
       "        text-align: right;\n",
       "    }\n",
       "</style>\n",
       "<table border=\"1\" class=\"dataframe\">\n",
       "  <thead>\n",
       "    <tr style=\"text-align: right;\">\n",
       "      <th></th>\n",
       "      <th>const</th>\n",
       "      <th>0</th>\n",
       "      <th>1</th>\n",
       "      <th>2</th>\n",
       "    </tr>\n",
       "  </thead>\n",
       "  <tbody>\n",
       "    <tr>\n",
       "      <th>0</th>\n",
       "      <td>1</td>\n",
       "      <td>0.933942</td>\n",
       "      <td>0.511451</td>\n",
       "      <td>-0.350902</td>\n",
       "    </tr>\n",
       "    <tr>\n",
       "      <th>1</th>\n",
       "      <td>1</td>\n",
       "      <td>-0.142439</td>\n",
       "      <td>0.370873</td>\n",
       "      <td>-0.578081</td>\n",
       "    </tr>\n",
       "    <tr>\n",
       "      <th>2</th>\n",
       "      <td>1</td>\n",
       "      <td>-0.276756</td>\n",
       "      <td>-0.683288</td>\n",
       "      <td>1.470273</td>\n",
       "    </tr>\n",
       "    <tr>\n",
       "      <th>3</th>\n",
       "      <td>1</td>\n",
       "      <td>-0.513765</td>\n",
       "      <td>1.714472</td>\n",
       "      <td>-0.940907</td>\n",
       "    </tr>\n",
       "    <tr>\n",
       "      <th>4</th>\n",
       "      <td>1</td>\n",
       "      <td>-0.917167</td>\n",
       "      <td>0.741472</td>\n",
       "      <td>-0.867991</td>\n",
       "    </tr>\n",
       "  </tbody>\n",
       "</table>\n",
       "</div>"
      ],
      "text/plain": [
       "   const         0         1         2\n",
       "0      1  0.933942  0.511451 -0.350902\n",
       "1      1 -0.142439  0.370873 -0.578081\n",
       "2      1 -0.276756 -0.683288  1.470273\n",
       "3      1 -0.513765  1.714472 -0.940907\n",
       "4      1 -0.917167  0.741472 -0.867991"
      ]
     },
     "execution_count": 9,
     "metadata": {},
     "output_type": "execute_result"
    }
   ],
   "source": [
    "set2_X = set2.loc[:,'0':'2']\n",
    "set2_Y = set2.loc[:,'3':]\n",
    "set2_X.insert(loc=0, column='const', value=1)\n",
    "set2_X.head()"
   ]
  },
  {
   "cell_type": "code",
   "execution_count": 10,
   "metadata": {},
   "outputs": [],
   "source": [
    "#AX+XB=Q\n",
    "from scipy import linalg\n",
    "def program_2(Y,X,lamb,D):\n",
    "    a = np.dot(X.T,X)\n",
    "    b = lamb*D\n",
    "    q = np.dot(X.T,Y)\n",
    "    B = linalg.solve_sylvester(a, b, q)\n",
    "    beta0 = B[0]\n",
    "    b = B[1:]\n",
    "    return [beta0,b]"
   ]
  },
  {
   "cell_type": "markdown",
   "metadata": {},
   "source": [
    "D=Id"
   ]
  },
  {
   "cell_type": "code",
   "execution_count": 1023,
   "metadata": {},
   "outputs": [
    {
     "name": "stdout",
     "output_type": "stream",
     "text": [
      "shape of the beta0 (200,)\n",
      "shape of the b (3, 200)\n"
     ]
    }
   ],
   "source": [
    "d = 4\n",
    "q = 200\n",
    "D = np.identity(q)\n",
    "res10,res11 = program_2(set2_Y,set2_X,10,D)\n",
    "print('shape of the beta0',res10.shape)\n",
    "print('shape of the b',res11.shape)"
   ]
  },
  {
   "cell_type": "code",
   "execution_count": 1024,
   "metadata": {},
   "outputs": [
    {
     "data": {
      "text/plain": [
       "<matplotlib.legend.Legend at 0x631eef710>"
      ]
     },
     "execution_count": 1024,
     "metadata": {},
     "output_type": "execute_result"
    },
    {
     "data": {
      "image/png": "[encoded data removed]",
      "text/plain": [
       "<Figure size 432x288 with 1 Axes>"
      ]
     },
     "metadata": {
      "needs_background": "light"
     },
     "output_type": "display_data"
    }
   ],
   "source": [
    "q = 200\n",
    "j = np.linspace(0,q-1,q)\n",
    "plt.plot(j,res10,label = 'b0(j)')\n",
    "plt.plot(j,res11[0],label = 'b(1,j)')\n",
    "plt.plot(j,res11[1],label = 'b(2,j)')\n",
    "plt.plot(j,res11[2],label = 'b(3,j)')\n",
    "plt.xlabel(\"j\")\n",
    "plt.ylabel(\"Value\")\n",
    "plt.title('Graph of j v.s Value #1')\n",
    "plt.legend()"
   ]
  },
  {
   "cell_type": "markdown",
   "metadata": {},
   "source": [
    "D is a tridiagonal matrix with −1 above and below the diagonal, and 2 on the diagonal,\n",
    "except D(1, 1) = D(q, q) = 1."
   ]
  },
  {
   "cell_type": "code",
   "execution_count": 13,
   "metadata": {},
   "outputs": [
    {
     "data": {
      "text/plain": [
       "array([[ 1., -1.,  0., ...,  0.,  0.,  0.],\n",
       "       [-1.,  2., -1., ...,  0.,  0.,  0.],\n",
       "       [ 0., -1.,  2., ...,  0.,  0.,  0.],\n",
       "       ...,\n",
       "       [ 0.,  0.,  0., ...,  2., -1.,  0.],\n",
       "       [ 0.,  0.,  0., ..., -1.,  2., -1.],\n",
       "       [ 0.,  0.,  0., ...,  0., -1.,  1.]])"
      ]
     },
     "execution_count": 13,
     "metadata": {},
     "output_type": "execute_result"
    }
   ],
   "source": [
    "q = 200\n",
    "from scipy.sparse import diags\n",
    "m = diags([-1, 2, -1], [-1, 0, 1], shape=(q, q)).toarray()\n",
    "m\n",
    "m[0][0] = 1\n",
    "m[q-1][q-1] = 1\n",
    "m"
   ]
  },
  {
   "cell_type": "code",
   "execution_count": 14,
   "metadata": {},
   "outputs": [
    {
     "name": "stdout",
     "output_type": "stream",
     "text": [
      "shape of the beta0 (200,)\n",
      "shape of the b (3, 200)\n"
     ]
    }
   ],
   "source": [
    "res11,res12 = program_2(set2_Y,set2_X,1000,m)\n",
    "print('shape of the beta0',res11.shape)\n",
    "print('shape of the b',res12.shape)"
   ]
  },
  {
   "cell_type": "code",
   "execution_count": 15,
   "metadata": {},
   "outputs": [
    {
     "data": {
      "text/plain": [
       "<matplotlib.legend.Legend at 0x625513b90>"
      ]
     },
     "execution_count": 15,
     "metadata": {},
     "output_type": "execute_result"
    },
    {
     "data": {
      "image/png": "[encoded data removed]",
      "text/plain": [
       "<Figure size 432x288 with 1 Axes>"
      ]
     },
     "metadata": {
      "needs_background": "light"
     },
     "output_type": "display_data"
    }
   ],
   "source": [
    "q = 200\n",
    "j = np.linspace(0,q-1,q)\n",
    "plt.plot(j,res11,label = 'b0(j)')\n",
    "plt.plot(j,res12[0],label = 'b(1,j)')\n",
    "plt.plot(j,res12[1],label = 'b(2,j)')\n",
    "plt.plot(j,res12[2],label = 'b(3,j)')\n",
    "plt.xlabel(\"j\")\n",
    "plt.ylabel(\"Value\")\n",
    "plt.title('Graph of j v.s Value #2')\n",
    "plt.legend()"
   ]
  },
  {
   "cell_type": "markdown",
   "metadata": {},
   "source": [
    "# 3. Ridge Regression Evaluation"
   ]
  },
  {
   "cell_type": "code",
   "execution_count": 1025,
   "metadata": {},
   "outputs": [
    {
     "name": "stdout",
     "output_type": "stream",
     "text": [
      "Shape of the train dataset: (250, 11)\n",
      "Shape of the test dataset: (1000, 11)\n"
     ]
    },
    {
     "data": {
      "text/html": [
       "<div>\n",
       "<style scoped>\n",
       "    .dataframe tbody tr th:only-of-type {\n",
       "        vertical-align: middle;\n",
       "    }\n",
       "\n",
       "    .dataframe tbody tr th {\n",
       "        vertical-align: top;\n",
       "    }\n",
       "\n",
       "    .dataframe thead th {\n",
       "        text-align: right;\n",
       "    }\n",
       "</style>\n",
       "<table border=\"1\" class=\"dataframe\">\n",
       "  <thead>\n",
       "    <tr style=\"text-align: right;\">\n",
       "      <th></th>\n",
       "      <th>X1</th>\n",
       "      <th>X2</th>\n",
       "      <th>X3</th>\n",
       "      <th>X4</th>\n",
       "      <th>X5</th>\n",
       "      <th>X6</th>\n",
       "      <th>X7</th>\n",
       "      <th>X8</th>\n",
       "      <th>X9</th>\n",
       "      <th>X10</th>\n",
       "      <th>Y</th>\n",
       "    </tr>\n",
       "  </thead>\n",
       "  <tbody>\n",
       "    <tr>\n",
       "      <th>0</th>\n",
       "      <td>0.260438</td>\n",
       "      <td>0.097842</td>\n",
       "      <td>-0.951163</td>\n",
       "      <td>-0.811562</td>\n",
       "      <td>-0.796731</td>\n",
       "      <td>-0.851987</td>\n",
       "      <td>-0.651673</td>\n",
       "      <td>-0.240470</td>\n",
       "      <td>-0.637974</td>\n",
       "      <td>-0.894603</td>\n",
       "      <td>-167.661874</td>\n",
       "    </tr>\n",
       "    <tr>\n",
       "      <th>1</th>\n",
       "      <td>0.409162</td>\n",
       "      <td>-0.169204</td>\n",
       "      <td>-0.808798</td>\n",
       "      <td>-0.569568</td>\n",
       "      <td>-0.036620</td>\n",
       "      <td>-0.558032</td>\n",
       "      <td>0.441002</td>\n",
       "      <td>0.747107</td>\n",
       "      <td>0.640602</td>\n",
       "      <td>-0.860097</td>\n",
       "      <td>14.812718</td>\n",
       "    </tr>\n",
       "    <tr>\n",
       "      <th>2</th>\n",
       "      <td>0.152505</td>\n",
       "      <td>0.844515</td>\n",
       "      <td>-0.479109</td>\n",
       "      <td>0.537759</td>\n",
       "      <td>0.458164</td>\n",
       "      <td>0.792431</td>\n",
       "      <td>0.731155</td>\n",
       "      <td>-0.020144</td>\n",
       "      <td>-0.033775</td>\n",
       "      <td>0.738788</td>\n",
       "      <td>53.679322</td>\n",
       "    </tr>\n",
       "    <tr>\n",
       "      <th>3</th>\n",
       "      <td>0.807235</td>\n",
       "      <td>-0.559277</td>\n",
       "      <td>-0.492523</td>\n",
       "      <td>0.945566</td>\n",
       "      <td>0.398986</td>\n",
       "      <td>-0.191322</td>\n",
       "      <td>-0.387992</td>\n",
       "      <td>0.841648</td>\n",
       "      <td>0.409583</td>\n",
       "      <td>0.948857</td>\n",
       "      <td>26.722946</td>\n",
       "    </tr>\n",
       "    <tr>\n",
       "      <th>4</th>\n",
       "      <td>-0.777192</td>\n",
       "      <td>-0.571730</td>\n",
       "      <td>0.963313</td>\n",
       "      <td>0.840137</td>\n",
       "      <td>-0.995166</td>\n",
       "      <td>0.339687</td>\n",
       "      <td>-0.503595</td>\n",
       "      <td>0.650607</td>\n",
       "      <td>0.143833</td>\n",
       "      <td>-0.307223</td>\n",
       "      <td>5.119166</td>\n",
       "    </tr>\n",
       "  </tbody>\n",
       "</table>\n",
       "</div>"
      ],
      "text/plain": [
       "         X1        X2        X3        X4        X5        X6        X7  \\\n",
       "0  0.260438  0.097842 -0.951163 -0.811562 -0.796731 -0.851987 -0.651673   \n",
       "1  0.409162 -0.169204 -0.808798 -0.569568 -0.036620 -0.558032  0.441002   \n",
       "2  0.152505  0.844515 -0.479109  0.537759  0.458164  0.792431  0.731155   \n",
       "3  0.807235 -0.559277 -0.492523  0.945566  0.398986 -0.191322 -0.387992   \n",
       "4 -0.777192 -0.571730  0.963313  0.840137 -0.995166  0.339687 -0.503595   \n",
       "\n",
       "         X8        X9       X10           Y  \n",
       "0 -0.240470 -0.637974 -0.894603 -167.661874  \n",
       "1  0.747107  0.640602 -0.860097   14.812718  \n",
       "2 -0.020144 -0.033775  0.738788   53.679322  \n",
       "3  0.841648  0.409583  0.948857   26.722946  \n",
       "4  0.650607  0.143833 -0.307223    5.119166  "
      ]
     },
     "execution_count": 1025,
     "metadata": {},
     "output_type": "execute_result"
    }
   ],
   "source": [
    "train3 = pd.read_csv('project3_F2020_Set3Train.csv')\n",
    "test3 = pd.read_csv('project3_F2020_Set3Test.csv')\n",
    "print('Shape of the train dataset:',train3.shape)\n",
    "print('Shape of the test dataset:',test3.shape)\n",
    "train3.head()"
   ]
  },
  {
   "cell_type": "code",
   "execution_count": 1026,
   "metadata": {},
   "outputs": [],
   "source": [
    "X3_train = train3.loc[:,'X1':'X10']\n",
    "X3_test = test3.loc[:,'X1':'X10']\n",
    "Y3_train = train3.loc[:,'Y']\n",
    "Y3_test = test3.loc[:,'Y']"
   ]
  },
  {
   "cell_type": "code",
   "execution_count": 1027,
   "metadata": {},
   "outputs": [],
   "source": [
    "def program_1_update(Y,X,D,lamb):\n",
    "    x_bar = X.mean()\n",
    "    y_bar = Y.mean()\n",
    "    xc = np.array([(X.iloc[0] - x_bar).to_numpy()])\n",
    "    yc = np.array([(Y.iloc[0] - y_bar)])\n",
    "    for i in range(1,len(Y)):\n",
    "        val_x = (X.iloc[i] - x_bar).to_numpy()\n",
    "        val_y = (Y.iloc[i] - y_bar)\n",
    "        xc = np.vstack((xc,val_x))\n",
    "        yc = np.vstack((yc,val_y))\n",
    "    b_hat = np.dot(np.linalg.inv(np.dot(xc.T,xc)+lamb*D),np.dot(xc.T,yc))\n",
    "    beta_zero = y_bar - np.dot(b_hat.T,x_bar)\n",
    "    return [b_hat,beta_zero]"
   ]
  },
  {
   "cell_type": "code",
   "execution_count": 1028,
   "metadata": {},
   "outputs": [],
   "source": [
    "d = X3_train.shape[1]\n",
    "D = np.identity(d)\n",
    "\n",
    "lambdas = np.linspace(1,100,100)\n",
    "errors = []\n",
    "for lamb in lambdas:\n",
    "    b_hat,beta_zero = program_1_update(Y3_train,X3_train,D,lamb)\n",
    "    err = 0\n",
    "    for i in range(X3_test.shape[0]):\n",
    "        pred_y = beta_zero + np.dot(b_hat.T,X3_test.iloc[i])\n",
    "        err += (Y3_test.iloc[i] - pred_y)**2\n",
    "    errors.append(err/X3_test.shape[0])"
   ]
  },
  {
   "cell_type": "code",
   "execution_count": 1029,
   "metadata": {},
   "outputs": [
    {
     "data": {
      "text/plain": [
       "Text(0.5, 1.0, 'Graph of Lambda v.s Error')"
      ]
     },
     "execution_count": 1029,
     "metadata": {},
     "output_type": "execute_result"
    },
    {
     "data": {
      "image/png": "[encoded data removed]",
      "text/plain": [
       "<Figure size 432x288 with 1 Axes>"
      ]
     },
     "metadata": {
      "needs_background": "light"
     },
     "output_type": "display_data"
    }
   ],
   "source": [
    "plt.plot(lambdas,errors)\n",
    "plt.xlabel(\"Lambda\")\n",
    "plt.ylabel(\"Error\")\n",
    "plt.title('Graph of Lambda v.s Error')"
   ]
  },
  {
   "cell_type": "code",
   "execution_count": 1030,
   "metadata": {
    "scrolled": true
   },
   "outputs": [
    {
     "name": "stdout",
     "output_type": "stream",
     "text": [
      "the minimum value of the error is [224.93512432] and the parameter λ 16.0 \n"
     ]
    }
   ],
   "source": [
    "print(\"the minimum value of the error is {} and the parameter λ {} \".format(min(errors),lambdas[errors.index(min(errors))]))"
   ]
  },
  {
   "cell_type": "markdown",
   "metadata": {},
   "source": [
    "# 4. Kernel Version of Ridge Regression"
   ]
  },
  {
   "cell_type": "markdown",
   "metadata": {},
   "source": [
    "**Gaussian**"
   ]
  },
  {
   "cell_type": "code",
   "execution_count": 1031,
   "metadata": {},
   "outputs": [],
   "source": [
    "import math\n",
    "def gaussian_kernel(x,y,sigma):\n",
    "    fen_zi = -np.linalg.norm(x-y)**2\n",
    "    fen_mu = 2 * sigma**(2)\n",
    "    return np.exp(fen_zi/fen_mu)"
   ]
  },
  {
   "cell_type": "code",
   "execution_count": 1032,
   "metadata": {},
   "outputs": [],
   "source": [
    "def kernel_1(X,Y,sigma):\n",
    "    K = np.zeros((len(X),len(Y)))\n",
    "    for i in range(len(Y)):\n",
    "        for xx in range(len(X)):\n",
    "            K[xx,i] += gaussian_kernel(X.iloc[xx],Y.iloc[i],sigma)\n",
    "    return K"
   ]
  },
  {
   "cell_type": "code",
   "execution_count": 1033,
   "metadata": {},
   "outputs": [],
   "source": [
    "def program_3(X,Y,lamb,y,K):\n",
    "    N,d = X.shape\n",
    "    yc = y-np.mean(y)\n",
    "    ONE = np.ones(N).reshape((-1, 1))\n",
    "    ID = np.identity(N)\n",
    "    P = ID - (np.dot(ONE,ONE.T)/N)\n",
    "    alpha = np.dot(np.linalg.inv(np.dot(P,K) + lamb*ID),yc).reshape(-1,1)\n",
    "    beta0 = np.mean(y) - np.mean(np.dot(K,alpha))  \n",
    "    return alpha,beta0"
   ]
  },
  {
   "cell_type": "code",
   "execution_count": 1034,
   "metadata": {
    "scrolled": true
   },
   "outputs": [],
   "source": [
    "Gaussian_lambdas = np.linspace(0.001,0.1,100)\n",
    "k = kernel_1(X3_test,X3_train,2.5)\n",
    "K = kernel_1(X3_train,X3_train,2.5)\n",
    "errors1 = []\n",
    "for lamb in Gaussian_lambdas:\n",
    "    alpha_hat,beta0_hat = program_3(X3_train,X3_train,lamb,Y3_train,K)\n",
    "    err = 0\n",
    "    for kk in range(k.shape[0]):\n",
    "        pred_y = beta0_hat\n",
    "        for kkk in range(k.shape[1]):\n",
    "            pred_y += alpha_hat[kkk][0] * k[kk][kkk]\n",
    "        err += (Y3_test[kk] - pred_y)**2\n",
    "    errors1.append(err/k.shape[0])"
   ]
  },
  {
   "cell_type": "code",
   "execution_count": 1035,
   "metadata": {},
   "outputs": [
    {
     "data": {
      "text/plain": [
       "Text(0.5, 1.0, 'Graph of Lambda v.s Error')"
      ]
     },
     "execution_count": 1035,
     "metadata": {},
     "output_type": "execute_result"
    },
    {
     "data": {
      "image/png": "[encoded data removed]",
      "text/plain": [
       "<Figure size 432x288 with 1 Axes>"
      ]
     },
     "metadata": {
      "needs_background": "light"
     },
     "output_type": "display_data"
    }
   ],
   "source": [
    "plt.plot(Gaussian_lambdas,errors1)\n",
    "plt.xlabel(\"Lambda\")\n",
    "plt.ylabel(\"Error\")\n",
    "plt.title('Graph of Lambda v.s Error')"
   ]
  },
  {
   "cell_type": "code",
   "execution_count": 1036,
   "metadata": {},
   "outputs": [
    {
     "name": "stdout",
     "output_type": "stream",
     "text": [
      "the minimum value of the error is 223.83306360281904 and the parameter λ 0.011 \n"
     ]
    }
   ],
   "source": [
    "print(\"the minimum value of the error is {} and the parameter λ {} \".format(min(errors1),Gaussian_lambdas[errors1.index(min(errors1))]))"
   ]
  },
  {
   "cell_type": "markdown",
   "metadata": {},
   "source": [
    "**Polynomial**"
   ]
  },
  {
   "cell_type": "code",
   "execution_count": 1037,
   "metadata": {},
   "outputs": [],
   "source": [
    "def poly_kernel(x,y,sigma,h):\n",
    "    res = 0\n",
    "    for k in range(1,h+1):\n",
    "        res += np.dot(x.T,y)**k/sigma**(2*k-2)\n",
    "    return res"
   ]
  },
  {
   "cell_type": "code",
   "execution_count": 1038,
   "metadata": {},
   "outputs": [],
   "source": [
    "def kernel_2(X,Y,sigma,h):\n",
    "    K = np.zeros((len(X),len(Y)))\n",
    "    for i in range(len(Y)):\n",
    "        for xx in range(len(X)):\n",
    "            K[xx,i] += poly_kernel(X.iloc[xx],Y.iloc[i],sigma,h)\n",
    "    return K"
   ]
  },
  {
   "cell_type": "code",
   "execution_count": 1039,
   "metadata": {},
   "outputs": [],
   "source": [
    "def program_3(X,Y,lamb,y,K):\n",
    "    N,d = X.shape\n",
    "    yc = y-np.mean(y)\n",
    "    ONE = np.ones(N).reshape((-1, 1))\n",
    "    ID = np.identity(N)\n",
    "    P = ID - (np.dot(ONE,ONE.T)/N)\n",
    "    alpha = np.dot(np.linalg.inv(np.dot(P,K) + lamb*ID),yc).reshape(-1,1)\n",
    "    beta0 = np.mean(y) - np.mean(np.dot(K,alpha))  \n",
    "    return alpha,beta0"
   ]
  },
  {
   "cell_type": "code",
   "execution_count": 1040,
   "metadata": {},
   "outputs": [],
   "source": [
    "poly_lambdas = np.linspace(1,100,100)\n",
    "ERROR = []\n",
    "for h in [1,2,3,5,8]:\n",
    "    errors2 = []\n",
    "    k = kernel_2(X3_test,X3_train,1.5,h)\n",
    "    K = kernel_2(X3_train,X3_train,1.5,h)\n",
    "    for lamb in poly_lambdas:\n",
    "        alpha_hat,beta0_hat = program_3(X3_train,X3_train,lamb,Y3_train,K)\n",
    "        err = 0\n",
    "        for kk in range(k.shape[0]):\n",
    "            pred_y = beta0_hat\n",
    "            for kkk in range(k.shape[1]):\n",
    "                pred_y += alpha_hat[kkk][0] * k[kk][kkk]\n",
    "            err += (Y3_test[kk] - pred_y)**2\n",
    "        errors2.append(err/k.shape[0])\n",
    "    ERROR.append(errors2)"
   ]
  },
  {
   "cell_type": "code",
   "execution_count": 1041,
   "metadata": {},
   "outputs": [
    {
     "data": {
      "text/plain": [
       "<matplotlib.legend.Legend at 0x631f6c2d0>"
      ]
     },
     "execution_count": 1041,
     "metadata": {},
     "output_type": "execute_result"
    },
    {
     "data": {
      "image/png": "[encoded data removed]",
      "text/plain": [
       "<Figure size 432x288 with 1 Axes>"
      ]
     },
     "metadata": {
      "needs_background": "light"
     },
     "output_type": "display_data"
    }
   ],
   "source": [
    "plt.plot(poly_lambdas,ERROR[0], label = 'h=1')\n",
    "plt.plot(poly_lambdas,ERROR[1], label = 'h=2')\n",
    "plt.plot(poly_lambdas,ERROR[2], label = 'h=3')\n",
    "plt.plot(poly_lambdas,ERROR[3], label = 'h=5')\n",
    "plt.plot(poly_lambdas,ERROR[4], label = 'h=8')\n",
    "plt.xlabel(\"Lambda\")\n",
    "plt.ylabel(\"Error\")\n",
    "plt.title('Graph of Lambda v.s Error')\n",
    "plt.legend()"
   ]
  },
  {
   "cell_type": "code",
   "execution_count": 1066,
   "metadata": {},
   "outputs": [
    {
     "name": "stdout",
     "output_type": "stream",
     "text": [
      "when h = 1, the minimum value of the error is 224.93512431543564 and the parameter λ 16.0 \n",
      "when h = 2, the minimum value of the error is 251.08308762574714 and the parameter λ 23.0 \n",
      "when h = 3, the minimum value of the error is 159.1310659317221 and the parameter λ 8.0 \n",
      "when h = 5, the minimum value of the error is 168.61455553229388 and the parameter λ 11.0 \n",
      "when h = 8, the minimum value of the error is 227.87500958730365 and the parameter λ 19.0 \n"
     ]
    }
   ],
   "source": [
    "L = [1,2,3,5,8]\n",
    "for i in range(5):\n",
    "    print(\"when h = {}, the minimum value of the error is {} and the parameter λ {} \".format(L[i],min(ERROR[i]),poly_lambdas[ERROR[i].index(min(ERROR[i]))]))"
   ]
  },
  {
   "cell_type": "markdown",
   "metadata": {},
   "source": [
    "# 5. ADMM Algorithm for LASSO"
   ]
  },
  {
   "cell_type": "code",
   "execution_count": 462,
   "metadata": {},
   "outputs": [],
   "source": [
    "def s_lamba_rho(v,rho,lamb):\n",
    "    if v>= lamb*rho:\n",
    "        return v-lamb*rho\n",
    "    elif abs(v) <= lamb*rho:\n",
    "        return 0\n",
    "    elif v <= -lamb*rho:\n",
    "        return v+lamb*rho     "
   ]
  },
  {
   "cell_type": "code",
   "execution_count": 917,
   "metadata": {},
   "outputs": [],
   "source": [
    "from scipy.sparse import random\n",
    "\n",
    "def ADMM_1(X,Y,rho,lamb):\n",
    "    N,d = X.shape \n",
    "    q = 1\n",
    "    \n",
    "    X = (X - X.mean(axis = 0))/(X.std(axis = 0)) #Normalize\n",
    "    D = np.array([[0 for x in range(d+1)] for y in range(d)]) #d x (d+1) array\n",
    "    for i in range(d):\n",
    "        D[i][i+1] = 1 #sigma = 1\n",
    "    \n",
    "    x = np.ones([N,1])\n",
    "    X = np.append(x, X, axis=1) # now X becomes(N*(d+1))\n",
    "    \n",
    "    tau = np.zeros(d).reshape(-1,1)\n",
    "    gamma = np.zeros(d).reshape(-1,1)\n",
    "    val = d+1\n",
    "    while True:\n",
    "        first_term = np.linalg.inv(np.dot(X.T,X)+ (np.dot(D.T,D)/(2*rho))) \n",
    "        second_term = np.dot(X.T,Y).reshape(-1,1) + np.dot((D.T/(2*rho)),(gamma-tau))\n",
    "      \n",
    "        beta = np.dot(first_term,second_term)\n",
    "       \n",
    "        v = np.dot(D,beta)+tau\n",
    "        for i in range(d):\n",
    "            gamma[i] = s_lamba_rho(v[i],rho,lamb)\n",
    "        tau = tau + np.dot(D,beta) - gamma\n",
    "        \n",
    "        if np.linalg.norm(np.dot(D,beta)-gamma)<=1e-6:\n",
    "            break\n",
    "    for x in range(d+1):\n",
    "        if beta[x] <1e-5:\n",
    "            beta[x] = 0            \n",
    "    return beta "
   ]
  },
  {
   "cell_type": "code",
   "execution_count": 918,
   "metadata": {},
   "outputs": [
    {
     "data": {
      "text/plain": [
       "(1000, 1)"
      ]
     },
     "execution_count": 918,
     "metadata": {},
     "output_type": "execute_result"
    }
   ],
   "source": [
    "#Generate X, Y, sparse_beta, \n",
    "d = 100\n",
    "q = 1\n",
    "N = 1000\n",
    "\n",
    "X = np.random.rand(N,d) #100x10 matrix\n",
    "\n",
    "cov = 1 * np.identity(N)\n",
    "\n",
    "val = d+1\n",
    "beta_s = random(val, 1, density=0.20).A #d+1 * 1 matrix\n",
    "\n",
    "x = np.ones([N,1])\n",
    "XX = np.append(x, X, axis=1) #100x11 matrix\n",
    "\n",
    "mean = np.dot(XX,beta_s) #1xq \n",
    "mean = mean.reshape(-1)\n",
    "Y = np.random.multivariate_normal(mean, cov) #100*1 matrix\n",
    "Y.reshape(-1,1).shape"
   ]
  },
  {
   "cell_type": "code",
   "execution_count": 932,
   "metadata": {},
   "outputs": [
    {
     "name": "stdout",
     "output_type": "stream",
     "text": [
      "When lambda is 1.0, the non-vanishing count is 60\n",
      "When lambda is 12.0, the non-vanishing count is 57\n",
      "When lambda is 23.0, the non-vanishing count is 52\n",
      "When lambda is 34.0, the non-vanishing count is 43\n",
      "When lambda is 45.0, the non-vanishing count is 34\n",
      "When lambda is 56.0, the non-vanishing count is 29\n",
      "When lambda is 67.0, the non-vanishing count is 26\n",
      "When lambda is 78.0, the non-vanishing count is 24\n",
      "When lambda is 89.0, the non-vanishing count is 23\n",
      "When lambda is 100.0, the non-vanishing count is 19\n"
     ]
    }
   ],
   "source": [
    "lamb_test = np.linspace(1,100,10)\n",
    "\n",
    "for l in lamb_test:\n",
    "    rho_test = 1/l\n",
    "    Beta = ADMM_1(X,Y,rho_test,l) #(d+1)xq\n",
    "    print('When lambda is {}, the non-vanishing count is {}'.format(l,np.count_nonzero(Beta[1:])))"
   ]
  },
  {
   "cell_type": "markdown",
   "metadata": {},
   "source": [
    "# 6. ADMM Algorithm for LASSO: Evaluate"
   ]
  },
  {
   "cell_type": "code",
   "execution_count": 304,
   "metadata": {},
   "outputs": [],
   "source": [
    "#Generate Lambdas\n",
    "LAMBS = np.zeros(300)\n",
    "for i in range(300):\n",
    "    LAMBS[i] = (i+1)**2"
   ]
  },
  {
   "cell_type": "code",
   "execution_count": 312,
   "metadata": {},
   "outputs": [
    {
     "name": "stdout",
     "output_type": "stream",
     "text": [
      "(200, 251)\n"
     ]
    },
    {
     "data": {
      "text/html": [
       "<div>\n",
       "<style scoped>\n",
       "    .dataframe tbody tr th:only-of-type {\n",
       "        vertical-align: middle;\n",
       "    }\n",
       "\n",
       "    .dataframe tbody tr th {\n",
       "        vertical-align: top;\n",
       "    }\n",
       "\n",
       "    .dataframe thead th {\n",
       "        text-align: right;\n",
       "    }\n",
       "</style>\n",
       "<table border=\"1\" class=\"dataframe\">\n",
       "  <thead>\n",
       "    <tr style=\"text-align: right;\">\n",
       "      <th></th>\n",
       "      <th>0</th>\n",
       "      <th>1</th>\n",
       "      <th>2</th>\n",
       "      <th>3</th>\n",
       "      <th>4</th>\n",
       "      <th>5</th>\n",
       "      <th>6</th>\n",
       "      <th>7</th>\n",
       "      <th>8</th>\n",
       "      <th>9</th>\n",
       "      <th>...</th>\n",
       "      <th>241</th>\n",
       "      <th>242</th>\n",
       "      <th>243</th>\n",
       "      <th>244</th>\n",
       "      <th>245</th>\n",
       "      <th>246</th>\n",
       "      <th>247</th>\n",
       "      <th>248</th>\n",
       "      <th>249</th>\n",
       "      <th>250</th>\n",
       "    </tr>\n",
       "  </thead>\n",
       "  <tbody>\n",
       "    <tr>\n",
       "      <th>0</th>\n",
       "      <td>-21.6280</td>\n",
       "      <td>31.7640</td>\n",
       "      <td>-3.5770</td>\n",
       "      <td>57.089</td>\n",
       "      <td>37.910</td>\n",
       "      <td>35.7980</td>\n",
       "      <td>-3.6400</td>\n",
       "      <td>26.549</td>\n",
       "      <td>40.477</td>\n",
       "      <td>-12.3130</td>\n",
       "      <td>...</td>\n",
       "      <td>-32.7410</td>\n",
       "      <td>61.283</td>\n",
       "      <td>25.1540</td>\n",
       "      <td>29.70700</td>\n",
       "      <td>-72.432</td>\n",
       "      <td>76.2260</td>\n",
       "      <td>-69.0840</td>\n",
       "      <td>4.8036</td>\n",
       "      <td>-53.563</td>\n",
       "      <td>-429.19</td>\n",
       "    </tr>\n",
       "    <tr>\n",
       "      <th>1</th>\n",
       "      <td>-83.2790</td>\n",
       "      <td>-30.0710</td>\n",
       "      <td>13.9600</td>\n",
       "      <td>77.597</td>\n",
       "      <td>-34.597</td>\n",
       "      <td>79.9320</td>\n",
       "      <td>-49.7150</td>\n",
       "      <td>106.720</td>\n",
       "      <td>96.440</td>\n",
       "      <td>-7.2870</td>\n",
       "      <td>...</td>\n",
       "      <td>24.6450</td>\n",
       "      <td>24.761</td>\n",
       "      <td>18.6430</td>\n",
       "      <td>-18.37700</td>\n",
       "      <td>79.925</td>\n",
       "      <td>59.6660</td>\n",
       "      <td>17.4140</td>\n",
       "      <td>-15.3740</td>\n",
       "      <td>-71.687</td>\n",
       "      <td>-429.11</td>\n",
       "    </tr>\n",
       "    <tr>\n",
       "      <th>2</th>\n",
       "      <td>6.2666</td>\n",
       "      <td>27.5590</td>\n",
       "      <td>68.6640</td>\n",
       "      <td>69.182</td>\n",
       "      <td>34.009</td>\n",
       "      <td>-103.2400</td>\n",
       "      <td>-37.3680</td>\n",
       "      <td>17.718</td>\n",
       "      <td>19.803</td>\n",
       "      <td>-58.4500</td>\n",
       "      <td>...</td>\n",
       "      <td>6.9623</td>\n",
       "      <td>22.438</td>\n",
       "      <td>-27.4840</td>\n",
       "      <td>-8.59840</td>\n",
       "      <td>-79.935</td>\n",
       "      <td>5.0341</td>\n",
       "      <td>44.7210</td>\n",
       "      <td>13.9430</td>\n",
       "      <td>44.687</td>\n",
       "      <td>-319.03</td>\n",
       "    </tr>\n",
       "    <tr>\n",
       "      <th>3</th>\n",
       "      <td>14.3840</td>\n",
       "      <td>-54.9920</td>\n",
       "      <td>8.9921</td>\n",
       "      <td>-37.905</td>\n",
       "      <td>-53.627</td>\n",
       "      <td>-37.1820</td>\n",
       "      <td>-1.5407</td>\n",
       "      <td>11.585</td>\n",
       "      <td>-43.070</td>\n",
       "      <td>-1.1006</td>\n",
       "      <td>...</td>\n",
       "      <td>19.0900</td>\n",
       "      <td>-16.531</td>\n",
       "      <td>-26.2750</td>\n",
       "      <td>36.88700</td>\n",
       "      <td>60.559</td>\n",
       "      <td>-60.3790</td>\n",
       "      <td>-23.6160</td>\n",
       "      <td>32.2540</td>\n",
       "      <td>105.550</td>\n",
       "      <td>26.01</td>\n",
       "    </tr>\n",
       "    <tr>\n",
       "      <th>4</th>\n",
       "      <td>-57.3240</td>\n",
       "      <td>4.2995</td>\n",
       "      <td>-27.1010</td>\n",
       "      <td>22.133</td>\n",
       "      <td>44.989</td>\n",
       "      <td>8.8092</td>\n",
       "      <td>49.4180</td>\n",
       "      <td>64.399</td>\n",
       "      <td>121.600</td>\n",
       "      <td>30.9140</td>\n",
       "      <td>...</td>\n",
       "      <td>-33.2330</td>\n",
       "      <td>-21.439</td>\n",
       "      <td>2.2357</td>\n",
       "      <td>0.50406</td>\n",
       "      <td>-30.638</td>\n",
       "      <td>-42.2170</td>\n",
       "      <td>-7.4668</td>\n",
       "      <td>48.3700</td>\n",
       "      <td>39.915</td>\n",
       "      <td>386.23</td>\n",
       "    </tr>\n",
       "  </tbody>\n",
       "</table>\n",
       "<p>5 rows × 251 columns</p>\n",
       "</div>"
      ],
      "text/plain": [
       "       0        1        2       3       4         5        6        7    \\\n",
       "0 -21.6280  31.7640  -3.5770  57.089  37.910   35.7980  -3.6400   26.549   \n",
       "1 -83.2790 -30.0710  13.9600  77.597 -34.597   79.9320 -49.7150  106.720   \n",
       "2   6.2666  27.5590  68.6640  69.182  34.009 -103.2400 -37.3680   17.718   \n",
       "3  14.3840 -54.9920   8.9921 -37.905 -53.627  -37.1820  -1.5407   11.585   \n",
       "4 -57.3240   4.2995 -27.1010  22.133  44.989    8.8092  49.4180   64.399   \n",
       "\n",
       "       8        9    ...      241     242      243       244     245      246  \\\n",
       "0   40.477 -12.3130  ... -32.7410  61.283  25.1540  29.70700 -72.432  76.2260   \n",
       "1   96.440  -7.2870  ...  24.6450  24.761  18.6430 -18.37700  79.925  59.6660   \n",
       "2   19.803 -58.4500  ...   6.9623  22.438 -27.4840  -8.59840 -79.935   5.0341   \n",
       "3  -43.070  -1.1006  ...  19.0900 -16.531 -26.2750  36.88700  60.559 -60.3790   \n",
       "4  121.600  30.9140  ... -33.2330 -21.439   2.2357   0.50406 -30.638 -42.2170   \n",
       "\n",
       "       247      248      249     250  \n",
       "0 -69.0840   4.8036  -53.563 -429.19  \n",
       "1  17.4140 -15.3740  -71.687 -429.11  \n",
       "2  44.7210  13.9430   44.687 -319.03  \n",
       "3 -23.6160  32.2540  105.550   26.01  \n",
       "4  -7.4668  48.3700   39.915  386.23  \n",
       "\n",
       "[5 rows x 251 columns]"
      ]
     },
     "execution_count": 312,
     "metadata": {},
     "output_type": "execute_result"
    }
   ],
   "source": [
    "df_lasso = pd.read_csv('project3_F2020_lasso.csv',header = None)\n",
    "print(df_lasso.shape)\n",
    "df_lasso.head()"
   ]
  },
  {
   "cell_type": "code",
   "execution_count": 902,
   "metadata": {},
   "outputs": [],
   "source": [
    "from scipy.sparse import random\n",
    "\n",
    "def ADMM_1(X,Y,rho,lamb):\n",
    "    N,d = X.shape \n",
    "    q = 1\n",
    "    \n",
    "    X = (X - X.mean(axis = 0))/(X.std(axis = 0)) #Normalize\n",
    "    D = np.array([[0 for x in range(d+1)] for y in range(d)]) #d x (d+1) array\n",
    "    for i in range(d):\n",
    "        D[i][i+1] = 1 #sigma = 1\n",
    "    \n",
    "    x = np.ones([N,1])\n",
    "    X = np.append(x, X, axis=1) # now X becomes(N*(d+1))\n",
    "    \n",
    "    tau = np.zeros(d).reshape(-1,1)\n",
    "    gamma = np.zeros(d).reshape(-1,1)\n",
    "    val = d+1\n",
    "    while True:\n",
    "        first_term = np.linalg.inv(np.dot(X.T,X)+ (np.dot(D.T,D)/(2*rho))) \n",
    "        second_term = np.dot(X.T,Y).reshape(-1,1) + np.dot((D.T/(2*rho)),(gamma-tau))\n",
    "      \n",
    "        beta = np.dot(first_term,second_term)\n",
    "       \n",
    "        v = np.dot(D,beta)+tau\n",
    "        for i in range(d):\n",
    "            gamma[i] = s_lamba_rho(v[i],rho,lamb)\n",
    "        tau = tau + np.dot(D,beta) - gamma\n",
    "        \n",
    "        if np.linalg.norm(np.dot(D,beta)-gamma)<=1e-6:\n",
    "            break\n",
    "    for x in range(d+1):\n",
    "        if beta[x] <1e-5:\n",
    "            beta[x] = 0            \n",
    "    return beta "
   ]
  },
  {
   "cell_type": "code",
   "execution_count": 1043,
   "metadata": {},
   "outputs": [
    {
     "name": "stdout",
     "output_type": "stream",
     "text": [
      "1.0\n",
      "4.0\n",
      "9.0\n",
      "16.0\n",
      "25.0\n",
      "36.0\n",
      "49.0\n",
      "64.0\n",
      "81.0\n",
      "100.0\n",
      "121.0\n",
      "144.0\n",
      "169.0\n",
      "196.0\n",
      "225.0\n",
      "256.0\n",
      "289.0\n",
      "324.0\n",
      "361.0\n",
      "400.0\n",
      "441.0\n",
      "484.0\n",
      "529.0\n",
      "576.0\n",
      "625.0\n",
      "676.0\n",
      "729.0\n",
      "784.0\n",
      "841.0\n",
      "900.0\n",
      "961.0\n",
      "1024.0\n",
      "1089.0\n",
      "1156.0\n",
      "1225.0\n",
      "1296.0\n",
      "1369.0\n",
      "1444.0\n",
      "1521.0\n",
      "1600.0\n",
      "1681.0\n",
      "1764.0\n",
      "1849.0\n",
      "1936.0\n",
      "2025.0\n",
      "2116.0\n",
      "2209.0\n",
      "2304.0\n",
      "2401.0\n",
      "2500.0\n",
      "2601.0\n",
      "2704.0\n",
      "2809.0\n",
      "2916.0\n",
      "3025.0\n",
      "3136.0\n",
      "3249.0\n",
      "3364.0\n",
      "3481.0\n",
      "3600.0\n",
      "3721.0\n",
      "3844.0\n",
      "3969.0\n",
      "4096.0\n",
      "4225.0\n",
      "4356.0\n",
      "4489.0\n",
      "4624.0\n",
      "4761.0\n",
      "4900.0\n",
      "5041.0\n",
      "5184.0\n",
      "5329.0\n",
      "5476.0\n",
      "5625.0\n",
      "5776.0\n",
      "5929.0\n",
      "6084.0\n",
      "6241.0\n",
      "6400.0\n",
      "6561.0\n",
      "6724.0\n",
      "6889.0\n",
      "7056.0\n",
      "7225.0\n",
      "7396.0\n",
      "7569.0\n",
      "7744.0\n",
      "7921.0\n",
      "8100.0\n",
      "8281.0\n",
      "8464.0\n",
      "8649.0\n",
      "8836.0\n",
      "9025.0\n",
      "9216.0\n",
      "9409.0\n",
      "9604.0\n",
      "9801.0\n",
      "10000.0\n",
      "10201.0\n",
      "10404.0\n",
      "10609.0\n",
      "10816.0\n",
      "11025.0\n",
      "11236.0\n",
      "11449.0\n",
      "11664.0\n",
      "11881.0\n",
      "12100.0\n",
      "12321.0\n",
      "12544.0\n",
      "12769.0\n",
      "12996.0\n",
      "13225.0\n",
      "13456.0\n",
      "13689.0\n",
      "13924.0\n",
      "14161.0\n",
      "14400.0\n",
      "14641.0\n",
      "14884.0\n",
      "15129.0\n",
      "15376.0\n",
      "15625.0\n",
      "15876.0\n",
      "16129.0\n",
      "16384.0\n",
      "16641.0\n",
      "16900.0\n",
      "17161.0\n",
      "17424.0\n",
      "17689.0\n",
      "17956.0\n",
      "18225.0\n",
      "18496.0\n",
      "18769.0\n",
      "19044.0\n",
      "19321.0\n",
      "19600.0\n",
      "19881.0\n",
      "20164.0\n",
      "20449.0\n",
      "20736.0\n",
      "21025.0\n",
      "21316.0\n",
      "21609.0\n",
      "21904.0\n",
      "22201.0\n",
      "22500.0\n",
      "22801.0\n",
      "23104.0\n",
      "23409.0\n",
      "23716.0\n",
      "24025.0\n",
      "24336.0\n",
      "24649.0\n",
      "24964.0\n",
      "25281.0\n",
      "25600.0\n",
      "25921.0\n",
      "26244.0\n",
      "26569.0\n",
      "26896.0\n",
      "27225.0\n",
      "27556.0\n",
      "27889.0\n",
      "28224.0\n",
      "28561.0\n",
      "28900.0\n",
      "29241.0\n",
      "29584.0\n",
      "29929.0\n",
      "30276.0\n",
      "30625.0\n",
      "30976.0\n",
      "31329.0\n",
      "31684.0\n",
      "32041.0\n",
      "32400.0\n",
      "32761.0\n",
      "33124.0\n",
      "33489.0\n",
      "33856.0\n",
      "34225.0\n",
      "34596.0\n",
      "34969.0\n",
      "35344.0\n",
      "35721.0\n",
      "36100.0\n",
      "36481.0\n",
      "36864.0\n",
      "37249.0\n",
      "37636.0\n",
      "38025.0\n",
      "38416.0\n",
      "38809.0\n",
      "39204.0\n",
      "39601.0\n",
      "40000.0\n",
      "40401.0\n",
      "40804.0\n",
      "41209.0\n",
      "41616.0\n",
      "42025.0\n",
      "42436.0\n",
      "42849.0\n",
      "43264.0\n",
      "43681.0\n",
      "44100.0\n",
      "44521.0\n",
      "44944.0\n",
      "45369.0\n",
      "45796.0\n",
      "46225.0\n",
      "46656.0\n",
      "47089.0\n",
      "47524.0\n",
      "47961.0\n",
      "48400.0\n",
      "48841.0\n",
      "49284.0\n",
      "49729.0\n",
      "50176.0\n",
      "50625.0\n",
      "51076.0\n",
      "51529.0\n",
      "51984.0\n",
      "52441.0\n",
      "52900.0\n",
      "53361.0\n",
      "53824.0\n",
      "54289.0\n",
      "54756.0\n",
      "55225.0\n",
      "55696.0\n",
      "56169.0\n",
      "56644.0\n",
      "57121.0\n",
      "57600.0\n",
      "58081.0\n",
      "58564.0\n",
      "59049.0\n",
      "59536.0\n",
      "60025.0\n",
      "60516.0\n",
      "61009.0\n",
      "61504.0\n",
      "62001.0\n",
      "62500.0\n",
      "63001.0\n",
      "63504.0\n",
      "64009.0\n",
      "64516.0\n",
      "65025.0\n",
      "65536.0\n",
      "66049.0\n",
      "66564.0\n",
      "67081.0\n",
      "67600.0\n",
      "68121.0\n",
      "68644.0\n",
      "69169.0\n",
      "69696.0\n",
      "70225.0\n",
      "70756.0\n",
      "71289.0\n",
      "71824.0\n",
      "72361.0\n",
      "72900.0\n",
      "73441.0\n",
      "73984.0\n",
      "74529.0\n",
      "75076.0\n",
      "75625.0\n",
      "76176.0\n",
      "76729.0\n",
      "77284.0\n",
      "77841.0\n",
      "78400.0\n",
      "78961.0\n",
      "79524.0\n",
      "80089.0\n",
      "80656.0\n",
      "81225.0\n",
      "81796.0\n",
      "82369.0\n",
      "82944.0\n",
      "83521.0\n",
      "84100.0\n",
      "84681.0\n",
      "85264.0\n",
      "85849.0\n",
      "86436.0\n",
      "87025.0\n",
      "87616.0\n",
      "88209.0\n",
      "88804.0\n",
      "89401.0\n",
      "90000.0\n"
     ]
    }
   ],
   "source": [
    "XX = df_lasso.iloc[:,0:250]\n",
    "YY = df_lasso.iloc[:,250]\n",
    "N,d = XX.shape\n",
    "q = 1\n",
    "\n",
    "LAMBS = np.zeros(300)\n",
    "for i in range(300):\n",
    "    LAMBS[i] = (i+1)**2\n",
    "    \n",
    "non_van = []\n",
    "B = []\n",
    "B21 = []\n",
    "B36 = []\n",
    "B200 = []\n",
    "for i in LAMBS:\n",
    "    print(i)\n",
    "    rho = 1/i\n",
    "    Beta = ADMM_1(XX,YY,rho,i) #(d+1)xq = 251x1\n",
    "    b0 = Beta[0] #1xq matrix = 1x1\n",
    "    b = Beta[1:] #dxq matrix = 250*1\n",
    "    B.append(b)\n",
    "    non_van.append(np.count_nonzero(b))\n",
    "    B21.append(b[20])\n",
    "    B36.append(b[35])\n",
    "    B200.append(b[199])"
   ]
  },
  {
   "cell_type": "markdown",
   "metadata": {},
   "source": [
    "i) number of non-vanishing coefficients"
   ]
  },
  {
   "cell_type": "code",
   "execution_count": 1044,
   "metadata": {},
   "outputs": [
    {
     "data": {
      "text/plain": [
       "Text(0, 0.5, 'Count')"
      ]
     },
     "execution_count": 1044,
     "metadata": {},
     "output_type": "execute_result"
    },
    {
     "data": {
      "image/png": "[encoded data removed]",
      "text/plain": [
       "<Figure size 576x432 with 1 Axes>"
      ]
     },
     "metadata": {
      "needs_background": "light"
     },
     "output_type": "display_data"
    }
   ],
   "source": [
    "fig, ax = plt.subplots(figsize=(8,6))\n",
    "ax.plot(LAMBS,non_van)\n",
    "ax.set_title('Number of Non-vanishing Coefficient')\n",
    "ax.set_xlabel('Lambda')\n",
    "ax.set_ylabel('Count')"
   ]
  },
  {
   "cell_type": "markdown",
   "metadata": {},
   "source": [
    "ii) $b_k(j)$ for j = 21,36 and 200"
   ]
  },
  {
   "cell_type": "code",
   "execution_count": 1045,
   "metadata": {},
   "outputs": [
    {
     "data": {
      "text/plain": [
       "<matplotlib.legend.Legend at 0x6306bba90>"
      ]
     },
     "execution_count": 1045,
     "metadata": {},
     "output_type": "execute_result"
    },
    {
     "data": {
      "image/png": "[encoded data removed]",
      "text/plain": [
       "<Figure size 576x432 with 1 Axes>"
      ]
     },
     "metadata": {
      "needs_background": "light"
     },
     "output_type": "display_data"
    }
   ],
   "source": [
    "fig, ax = plt.subplots(figsize=(8,6))\n",
    "ax.plot(LAMBS,B21, label = 'j = 21')\n",
    "ax.plot(LAMBS,B36, label = 'j = 36')\n",
    "ax.plot(LAMBS,B200, label = 'j = 200')\n",
    "ax.set_title('The value of b_k(j) for j = 21,36 and 200.')\n",
    "ax.set_xlabel('Lambda')\n",
    "ax.set_ylabel('Value')\n",
    "ax.legend()"
   ]
  },
  {
   "cell_type": "markdown",
   "metadata": {},
   "source": [
    "iii)  increments $(b_{k+1}(j) − b_k(j))/(λ_{k+1} − λ_k)$ for k = 1, . . . , n − 1 for the same values of j."
   ]
  },
  {
   "cell_type": "code",
   "execution_count": 1054,
   "metadata": {},
   "outputs": [
    {
     "data": {
      "text/plain": [
       "<matplotlib.legend.Legend at 0x632c09490>"
      ]
     },
     "execution_count": 1054,
     "metadata": {},
     "output_type": "execute_result"
    },
    {
     "data": {
      "image/png": "[encoded data removed]",
      "text/plain": [
       "<Figure size 576x432 with 1 Axes>"
      ]
     },
     "metadata": {
      "needs_background": "light"
     },
     "output_type": "display_data"
    }
   ],
   "source": [
    "fig, ax = plt.subplots(figsize=(8,6))\n",
    "ax.set_title('The increment')\n",
    "ax.set_xlabel('Lambda')\n",
    "ax.set_ylabel('Value')\n",
    "for j in [20,35,199]:\n",
    "    INC = []\n",
    "    for k in range(0,299):\n",
    "        inc = (B[k+1][j] - B[k][j])/(LAMBS[k+1]-LAMBS[k])\n",
    "        INC.append(inc)  \n",
    "    ax.plot(LAMBS[0:299],INC, label = 'j = {}'.format(j))   \n",
    "ax.legend()"
   ]
  },
  {
   "cell_type": "markdown",
   "metadata": {},
   "source": [
    "# 7. Proximal Gradient Algorithm for LASSO"
   ]
  },
  {
   "cell_type": "code",
   "execution_count": 965,
   "metadata": {},
   "outputs": [],
   "source": [
    "def gradient_b0(b0,b,alpha,X,Y):\n",
    "    res = 0\n",
    "    for i in range(Y.shape[0]):\n",
    "        res += Y[i] - b0 - np.dot(b.T,X.iloc[i])\n",
    "    res *= 2*alpha\n",
    "    return res"
   ]
  },
  {
   "cell_type": "code",
   "execution_count": 966,
   "metadata": {},
   "outputs": [],
   "source": [
    "def gradient_b(b0,b,alpha,X,Y):\n",
    "    res = 0\n",
    "    for i in range(Y.shape[0]):\n",
    "        res += X.iloc[i] * (Y[i] - b0 - np.dot(b.T,X.iloc[i]))\n",
    "    res *= 2*alpha\n",
    "    return res"
   ]
  },
  {
   "cell_type": "code",
   "execution_count": 1060,
   "metadata": {},
   "outputs": [
    {
     "name": "stdout",
     "output_type": "stream",
     "text": [
      "X_shape: (200, 250)\n",
      "Y_shape: (200,)\n",
      "beta_shape: (251, 1)\n"
     ]
    }
   ],
   "source": [
    "XX = df_lasso.iloc[:,0:250]\n",
    "XX = (XX - XX.mean(axis = 0))/(XX.std(axis = 0))\n",
    "YY = df_lasso.iloc[:,250]\n",
    "print('X_shape:',XX.shape)\n",
    "print('Y_shape:',YY.shape)\n",
    "N,d = XX.shape\n",
    "\n",
    "val = d+1\n",
    "beta = random(val, 1, density=0.20).A #d+1 * 1 matrix\n",
    "print('beta_shape:',beta.shape)"
   ]
  },
  {
   "cell_type": "code",
   "execution_count": 1228,
   "metadata": {},
   "outputs": [
    {
     "data": {
      "text/plain": [
       "array([0.])"
      ]
     },
     "execution_count": 1228,
     "metadata": {},
     "output_type": "execute_result"
    }
   ],
   "source": [
    "a = np.zeros(251).reshape(-1,1)\n",
    "a[0]"
   ]
  },
  {
   "cell_type": "code",
   "execution_count": 1259,
   "metadata": {},
   "outputs": [],
   "source": [
    "tolerance = 1e-3\n",
    "def problem3_4(alpha,lamb,X,Y): \n",
    "    N,d = X.shape\n",
    "    val = d+1\n",
    "    \n",
    "    beta = random(val, 1, density=0.2).A\n",
    "    #beta = np.zeros(251).reshape(-1.1)\n",
    "    \n",
    "    b0 = beta[0]\n",
    "    b = beta[1:]\n",
    "    \n",
    "    count = 0\n",
    "    indicator = True\n",
    "\n",
    "    current_b0 = b0\n",
    "    current_b = b\n",
    "    \n",
    "\n",
    "    while indicator:\n",
    "        temp_b0 = current_b0 + gradient_b0(current_b0,current_b,alpha,X,Y)\n",
    "        temp_b = current_b + gradient_b(current_b0,current_b,alpha,X,Y).to_numpy().reshape(-1,1)\n",
    "\n",
    "        new_b0 = temp_b0\n",
    "        \n",
    "        new_b = np.zeros(d).reshape(-1,1)\n",
    "        for i in range(len(temp_b)):\n",
    "            if temp_b[i] < 0:\n",
    "                sign = -1\n",
    "            else:\n",
    "                sign = 1               \n",
    "            new_b[i] = sign * max(temp_b[i]-alpha*lamb, 0)\n",
    "        \n",
    "        for j in range(d):\n",
    "            if np.abs(new_b[j]) < 1e-5:\n",
    "                new_b[j]=0\n",
    "        \n",
    "        if  np.linalg.norm(new_b - current_b) < tolerance \\\n",
    "           and np.linalg.norm(new_b0 - current_b0) < tolerance:\n",
    "            indicator = False\n",
    "            return (new_b0,new_b,count)\n",
    "        else:\n",
    "            current_b0 = new_b0\n",
    "            current_b = new_b\n",
    "            count+=1"
   ]
  },
  {
   "cell_type": "code",
   "execution_count": 1260,
   "metadata": {
    "scrolled": true
   },
   "outputs": [
    {
     "name": "stdout",
     "output_type": "stream",
     "text": [
      "1.0\n",
      "4.0\n",
      "9.0\n",
      "16.0\n",
      "25.0\n",
      "36.0\n",
      "49.0\n",
      "64.0\n",
      "81.0\n",
      "100.0\n",
      "121.0\n",
      "144.0\n",
      "169.0\n",
      "196.0\n",
      "225.0\n",
      "256.0\n",
      "289.0\n",
      "324.0\n",
      "361.0\n",
      "400.0\n",
      "441.0\n",
      "484.0\n",
      "529.0\n",
      "576.0\n",
      "625.0\n",
      "676.0\n",
      "729.0\n",
      "784.0\n",
      "841.0\n",
      "900.0\n",
      "961.0\n",
      "1024.0\n",
      "1089.0\n",
      "1156.0\n",
      "1225.0\n",
      "1296.0\n",
      "1369.0\n",
      "1444.0\n",
      "1521.0\n",
      "1600.0\n",
      "1681.0\n",
      "1764.0\n",
      "1849.0\n",
      "1936.0\n",
      "2025.0\n",
      "2116.0\n",
      "2209.0\n",
      "2304.0\n",
      "2401.0\n",
      "2500.0\n",
      "2601.0\n",
      "2704.0\n",
      "2809.0\n",
      "2916.0\n",
      "3025.0\n",
      "3136.0\n",
      "3249.0\n",
      "3364.0\n",
      "3481.0\n",
      "3600.0\n",
      "3721.0\n",
      "3844.0\n",
      "3969.0\n",
      "4096.0\n",
      "4225.0\n",
      "4356.0\n",
      "4489.0\n",
      "4624.0\n",
      "4761.0\n",
      "4900.0\n",
      "5041.0\n",
      "5184.0\n",
      "5329.0\n",
      "5476.0\n",
      "5625.0\n",
      "5776.0\n",
      "5929.0\n",
      "6084.0\n",
      "6241.0\n",
      "6400.0\n",
      "6561.0\n",
      "6724.0\n",
      "6889.0\n",
      "7056.0\n",
      "7225.0\n",
      "7396.0\n",
      "7569.0\n",
      "7744.0\n",
      "7921.0\n",
      "8100.0\n",
      "8281.0\n",
      "8464.0\n",
      "8649.0\n",
      "8836.0\n",
      "9025.0\n",
      "9216.0\n",
      "9409.0\n",
      "9604.0\n",
      "9801.0\n",
      "10000.0\n",
      "10201.0\n",
      "10404.0\n",
      "10609.0\n",
      "10816.0\n",
      "11025.0\n",
      "11236.0\n",
      "11449.0\n",
      "11664.0\n",
      "11881.0\n",
      "12100.0\n",
      "12321.0\n",
      "12544.0\n",
      "12769.0\n",
      "12996.0\n",
      "13225.0\n",
      "13456.0\n",
      "13689.0\n",
      "13924.0\n",
      "14161.0\n",
      "14400.0\n",
      "14641.0\n",
      "14884.0\n",
      "15129.0\n",
      "15376.0\n",
      "15625.0\n",
      "15876.0\n",
      "16129.0\n",
      "16384.0\n",
      "16641.0\n",
      "16900.0\n",
      "17161.0\n",
      "17424.0\n",
      "17689.0\n",
      "17956.0\n",
      "18225.0\n",
      "18496.0\n",
      "18769.0\n",
      "19044.0\n",
      "19321.0\n",
      "19600.0\n",
      "19881.0\n",
      "20164.0\n",
      "20449.0\n",
      "20736.0\n",
      "21025.0\n",
      "21316.0\n",
      "21609.0\n",
      "21904.0\n",
      "22201.0\n",
      "22500.0\n",
      "22801.0\n",
      "23104.0\n",
      "23409.0\n",
      "23716.0\n",
      "24025.0\n",
      "24336.0\n",
      "24649.0\n",
      "24964.0\n",
      "25281.0\n",
      "25600.0\n",
      "25921.0\n",
      "26244.0\n",
      "26569.0\n",
      "26896.0\n",
      "27225.0\n",
      "27556.0\n",
      "27889.0\n",
      "28224.0\n",
      "28561.0\n",
      "28900.0\n",
      "29241.0\n",
      "29584.0\n",
      "29929.0\n",
      "30276.0\n",
      "30625.0\n",
      "30976.0\n",
      "31329.0\n",
      "31684.0\n",
      "32041.0\n",
      "32400.0\n",
      "32761.0\n",
      "33124.0\n",
      "33489.0\n",
      "33856.0\n",
      "34225.0\n",
      "34596.0\n",
      "34969.0\n",
      "35344.0\n",
      "35721.0\n",
      "36100.0\n",
      "36481.0\n",
      "36864.0\n",
      "37249.0\n",
      "37636.0\n",
      "38025.0\n",
      "38416.0\n",
      "38809.0\n",
      "39204.0\n",
      "39601.0\n",
      "40000.0\n",
      "40401.0\n",
      "40804.0\n",
      "41209.0\n",
      "41616.0\n",
      "42025.0\n",
      "42436.0\n",
      "42849.0\n",
      "43264.0\n",
      "43681.0\n",
      "44100.0\n",
      "44521.0\n",
      "44944.0\n",
      "45369.0\n",
      "45796.0\n",
      "46225.0\n",
      "46656.0\n",
      "47089.0\n",
      "47524.0\n",
      "47961.0\n",
      "48400.0\n",
      "48841.0\n",
      "49284.0\n",
      "49729.0\n",
      "50176.0\n",
      "50625.0\n",
      "51076.0\n",
      "51529.0\n",
      "51984.0\n",
      "52441.0\n",
      "52900.0\n",
      "53361.0\n",
      "53824.0\n",
      "54289.0\n",
      "54756.0\n",
      "55225.0\n",
      "55696.0\n",
      "56169.0\n",
      "56644.0\n",
      "57121.0\n",
      "57600.0\n",
      "58081.0\n",
      "58564.0\n",
      "59049.0\n",
      "59536.0\n",
      "60025.0\n",
      "60516.0\n",
      "61009.0\n",
      "61504.0\n",
      "62001.0\n",
      "62500.0\n",
      "63001.0\n",
      "63504.0\n",
      "64009.0\n",
      "64516.0\n",
      "65025.0\n",
      "65536.0\n",
      "66049.0\n",
      "66564.0\n",
      "67081.0\n",
      "67600.0\n",
      "68121.0\n",
      "68644.0\n",
      "69169.0\n",
      "69696.0\n",
      "70225.0\n",
      "70756.0\n",
      "71289.0\n",
      "71824.0\n",
      "72361.0\n",
      "72900.0\n",
      "73441.0\n",
      "73984.0\n",
      "74529.0\n",
      "75076.0\n",
      "75625.0\n",
      "76176.0\n",
      "76729.0\n",
      "77284.0\n",
      "77841.0\n",
      "78400.0\n",
      "78961.0\n",
      "79524.0\n",
      "80089.0\n",
      "80656.0\n",
      "81225.0\n",
      "81796.0\n",
      "82369.0\n",
      "82944.0\n",
      "83521.0\n",
      "84100.0\n",
      "84681.0\n",
      "85264.0\n",
      "85849.0\n",
      "86436.0\n",
      "87025.0\n",
      "87616.0\n",
      "88209.0\n",
      "88804.0\n",
      "89401.0\n",
      "90000.0\n"
     ]
    }
   ],
   "source": [
    "alpha = 1e-9\n",
    "non_van2 = []\n",
    "BB = []\n",
    "BB21 = []\n",
    "BB36 = []\n",
    "BB200 = []\n",
    "\n",
    "for lamb in LAMBS:\n",
    "    print(lamb)\n",
    "    new_b0,new_b,_ = problem3_4(alpha,lamb,XX,YY)  #b0 is 1xq matrix = 1x1, #b is dxq matrix = 250*1\n",
    "    BB.append(new_b)\n",
    "    non_van2.append(np.count_nonzero(new_b))\n",
    "    BB21.append(new_b[21])\n",
    "    BB36.append(new_b[36])\n",
    "    BB200.append(new_b[200])"
   ]
  },
  {
   "cell_type": "code",
   "execution_count": 1261,
   "metadata": {},
   "outputs": [
    {
     "data": {
      "text/plain": [
       "Text(0, 0.5, 'Count')"
      ]
     },
     "execution_count": 1261,
     "metadata": {},
     "output_type": "execute_result"
    },
    {
     "data": {
      "image/png": "[encoded data removed]",
      "text/plain": [
       "<Figure size 576x432 with 1 Axes>"
      ]
     },
     "metadata": {
      "needs_background": "light"
     },
     "output_type": "display_data"
    }
   ],
   "source": [
    "fig, ax = plt.subplots(figsize=(8,6))\n",
    "ax.plot(LAMBS,non_van2)\n",
    "ax.set_title('Number of Non-vanishing Coefficient')\n",
    "ax.set_xlabel('Lambda')\n",
    "ax.set_ylabel('Count')"
   ]
  },
  {
   "cell_type": "code",
   "execution_count": 1262,
   "metadata": {},
   "outputs": [
    {
     "data": {
      "text/plain": [
       "<matplotlib.legend.Legend at 0x63aa38ed0>"
      ]
     },
     "execution_count": 1262,
     "metadata": {},
     "output_type": "execute_result"
    },
    {
     "data": {
      "image/png": "[encoded data removed]",
      "text/plain": [
       "<Figure size 576x432 with 1 Axes>"
      ]
     },
     "metadata": {
      "needs_background": "light"
     },
     "output_type": "display_data"
    }
   ],
   "source": [
    "fig, ax = plt.subplots(figsize=(8,6))\n",
    "ax.plot(LAMBS,BB21, label = 'j = 21')\n",
    "ax.plot(LAMBS,BB36, label = 'j = 36')\n",
    "ax.plot(LAMBS,BB200, label = 'j = 200')\n",
    "ax.set_title('The value of b_k(j) for j = 21,36 and 200.')\n",
    "ax.set_xlabel('Lambda')\n",
    "ax.set_ylabel('Value')\n",
    "ax.legend()"
   ]
  },
  {
   "cell_type": "code",
   "execution_count": 1263,
   "metadata": {},
   "outputs": [
    {
     "data": {
      "text/plain": [
       "<matplotlib.legend.Legend at 0x63ab76a90>"
      ]
     },
     "execution_count": 1263,
     "metadata": {},
     "output_type": "execute_result"
    },
    {
     "data": {
      "image/png": "[encoded data removed]",
      "text/plain": [
       "<Figure size 576x432 with 1 Axes>"
      ]
     },
     "metadata": {
      "needs_background": "light"
     },
     "output_type": "display_data"
    }
   ],
   "source": [
    "fig, ax = plt.subplots(figsize=(8,6))\n",
    "ax.set_title('The increment')\n",
    "ax.set_xlabel('Lambda')\n",
    "ax.set_ylabel('Value')\n",
    "for j in [20,35,199]:\n",
    "    INCC = []\n",
    "    for k in range(0,299):\n",
    "        inc = (BB[k+1][j] - BB[k][j])/(LAMBS[k+1]-LAMBS[k])\n",
    "        INCC.append(inc)  \n",
    "    ax.plot(LAMBS[0:299],INCC,label = 'j = {}'.format(j))  \n",
    "ax.legend()"
   ]
  },
  {
   "cell_type": "code",
   "execution_count": null,
   "metadata": {},
   "outputs": [],
   "source": []
  },
  {
   "cell_type": "code",
   "execution_count": null,
   "metadata": {},
   "outputs": [],
   "source": []
  }
 ],
 "metadata": {
  "kernelspec": {
   "display_name": "Python 3",
   "language": "python",
   "name": "python3"
  },
  "language_info": {
   "codemirror_mode": {
    "name": "ipython",
    "version": 3
   },
   "file_extension": ".py",
   "mimetype": "text/x-python",
   "name": "python",
   "nbconvert_exporter": "python",
   "pygments_lexer": "ipython3",
   "version": "3.7.6"
  }
 },
 "nbformat": 4,
 "nbformat_minor": 4
}
